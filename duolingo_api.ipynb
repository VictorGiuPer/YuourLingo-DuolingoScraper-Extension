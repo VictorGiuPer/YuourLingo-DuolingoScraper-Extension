{
 "cells": [
  {
   "cell_type": "code",
   "execution_count": 1,
   "id": "d976a2db",
   "metadata": {},
   "outputs": [],
   "source": [
    "username = \"chat.Rotciv\"\n",
    "password = \"%PKYHjmYYvd4b%&mGCqt\""
   ]
  },
  {
   "cell_type": "code",
   "execution_count": 2,
   "id": "860904b9",
   "metadata": {},
   "outputs": [
    {
     "name": "stdout",
     "output_type": "stream",
     "text": [
      "'%PKYHjmYYvd4b%&mGCqt'\n"
     ]
    }
   ],
   "source": [
    "print(repr(password))\n"
   ]
  },
  {
   "cell_type": "code",
   "execution_count": 3,
   "id": "825ae873",
   "metadata": {},
   "outputs": [],
   "source": [
    "from selenium import webdriver\n",
    "from selenium.webdriver.chrome.service import Service\n",
    "from webdriver_manager.chrome import ChromeDriverManager\n",
    "from selenium.webdriver.common.by import By\n",
    "from selenium.webdriver.support.ui import WebDriverWait\n",
    "from selenium.webdriver.support import expected_conditions as EC\n",
    "from selenium.common.exceptions import TimeoutException\n",
    "from bs4 import BeautifulSoup\n",
    "import pandas as pd\n",
    "import re\n",
    "import time\n",
    "\n",
    "import undetected_chromedriver as uc\n"
   ]
  },
  {
   "cell_type": "code",
   "execution_count": 4,
   "id": "e5b593b6",
   "metadata": {},
   "outputs": [],
   "source": [
    "# Function 1: Initialize WebDriver and open Duolingo\n",
    "def open_duolingo():\n",
    "    options = uc.ChromeOptions()\n",
    "    options.add_argument(\"--start-maximized\")\n",
    "    options.add_argument(\"--disable-blink-features=AutomationControlled\")  # Optional hardening\n",
    "    driver = uc.Chrome(options=options)\n",
    "\n",
    "    driver.get(\"https://www.duolingo.com\")\n",
    "\n",
    "    try:\n",
    "        cookies_button = WebDriverWait(driver, 10).until(\n",
    "            EC.element_to_be_clickable((By.ID, 'onetrust-reject-all-handler'))\n",
    "        )\n",
    "        cookies_button.click()\n",
    "    except:\n",
    "        pass  # In case the cookies button doesn't show\n",
    "\n",
    "    return driver"
   ]
  },
  {
   "cell_type": "code",
   "execution_count": 5,
   "id": "19258062",
   "metadata": {},
   "outputs": [],
   "source": [
    "# Function 2: Log in to Duolingo\n",
    "def login_duolingo(driver, username, password):\n",
    "    try:\n",
    "        # Wait for the \"I already have an account\" button and click it\n",
    "        have_account_button = WebDriverWait(driver, 10).until(\n",
    "            EC.element_to_be_clickable((By.XPATH, '//*[@id=\"root\"]/div[1]/header/div[2]/div[2]/div/button'))\n",
    "        )\n",
    "        have_account_button.click()\n",
    "\n",
    "        # Fill in the username and password fields\n",
    "        username_input = WebDriverWait(driver, 10).until(\n",
    "            EC.presence_of_element_located((By.XPATH, '//*[@id=\"web-ui1\"]'))\n",
    "        )\n",
    "        username_input.clear()  # Clear existing text\n",
    "        username_input.send_keys(username)\n",
    "\n",
    "        pw_input = WebDriverWait(driver, 10).until(\n",
    "            EC.presence_of_element_located((By.XPATH, '//*[@id=\"web-ui2\"]'))\n",
    "        )\n",
    "        # pw_input.clear()\n",
    "        time.sleep(1)\n",
    "        \n",
    "        pw_input.send_keys(password)\n",
    "\n",
    "        # Click the login button\n",
    "        login_button = WebDriverWait(driver, 10).until(\n",
    "            EC.element_to_be_clickable((By.XPATH, '//*[@id=\"overlays\"]/div[3]/div/div/form/div[1]/button'))\n",
    "        )\n",
    "        login_button.click()\n",
    "\n",
    "        return driver\n",
    "    except Exception as e:\n",
    "        print(f\"Error during login: {e}\")\n",
    "        return None"
   ]
  },
  {
   "cell_type": "code",
   "execution_count": 6,
   "id": "066ea0b4",
   "metadata": {},
   "outputs": [],
   "source": [
    "# Function 3: Navigate to Practice Hub\n",
    "def navigate_to_practice_hub(driver):\n",
    "    try:\n",
    "        # Handle data consent popup\n",
    "        data_consent_button = WebDriverWait(driver, 10).until(\n",
    "            EC.element_to_be_clickable((By.XPATH, '/html/body/div[6]/div[2]/div[2]/div[2]/div[2]/button[1]'))\n",
    "        )\n",
    "        data_consent_button.click()\n",
    "    except:\n",
    "        pass\n",
    "    try:\n",
    "        # Click on the practice hub button\n",
    "        practice_hub_button = WebDriverWait(driver, 10).until(\n",
    "            EC.element_to_be_clickable((By.XPATH, '//*[@id=\"root\"]/div[2]/div/div[1]/div[2]/div[2]/a/span/div/img'))\n",
    "        )\n",
    "        practice_hub_button.click()\n",
    "    except:\n",
    "        pass\n",
    "\n",
    "    try:\n",
    "        # Click the \"Words\" button\n",
    "        words_button = WebDriverWait(driver, 10).until(\n",
    "            EC.element_to_be_clickable((By.XPATH, '//*[@id=\"root\"]/div[2]/div/div[3]/div/div[2]/div/div[2]/div/div[2]/button[1]'))\n",
    "        )\n",
    "        words_button.click()\n",
    "    except:\n",
    "        pass\n",
    "    \n",
    "    try:\n",
    "        return driver\n",
    "    except Exception as e:\n",
    "        print(f\"Error during navigation: {e}\")\n",
    "        return None"
   ]
  },
  {
   "cell_type": "code",
   "execution_count": 7,
   "id": "6683f251",
   "metadata": {},
   "outputs": [],
   "source": [
    "# Function 4: Load more words and extract\n",
    "def extract_words(driver):\n",
    "    try:\n",
    "        # Wait for the element and get its text\n",
    "        h1_element = WebDriverWait(driver, 10).until(\n",
    "            EC.presence_of_element_located((By.XPATH, '//*[@id=\"root\"]/div[2]/div/div[3]/div/div[2]/div/section[1]/div/div/h1'))\n",
    "        )\n",
    "        language_text = h1_element.text\n",
    "        match = re.search(r'Practice your (.+?) words', language_text)\n",
    "        if match:\n",
    "            learn_language = match.group(1)\n",
    "        while True:\n",
    "            try:\n",
    "                # Find and click the 'Load more' button\n",
    "                load_more_button = WebDriverWait(driver, 5).until(\n",
    "                    EC.element_to_be_clickable((By.XPATH, \"//b[text()='Load more']/..\"))\n",
    "                )\n",
    "                load_more_button.click()\n",
    "            except TimeoutException:\n",
    "                break\n",
    "\n",
    "        # Get the page source after all words are loaded\n",
    "        soup = BeautifulSoup(driver.page_source, 'html.parser')\n",
    "\n",
    "        # Find all h3 tags and their corresponding p tags\n",
    "        h3_tags = soup.find_all('h3')\n",
    "        word_pairs = []\n",
    "        for h3 in h3_tags:\n",
    "            p = h3.find_next_sibling('p')\n",
    "            if p:\n",
    "                word_pairs.append((h3.text.strip(), p.text.strip()))\n",
    "\n",
    "        # Convert to a DataFrame\n",
    "        df = pd.DataFrame(word_pairs, columns=[learn_language, 'Translation'])\n",
    "        return df\n",
    "\n",
    "    except Exception as e:\n",
    "        print(f\"Error during extraction: {e}\")\n",
    "        return None"
   ]
  },
  {
   "cell_type": "code",
   "execution_count": 8,
   "id": "448b1d86",
   "metadata": {},
   "outputs": [
    {
     "name": "stdout",
     "output_type": "stream",
     "text": [
      "     Spanish Translation\n",
      "0  recetario    cookbook\n",
      "1      pulpo     octopus\n",
      "2      hongo    mushroom\n",
      "3  incomible    inedible\n",
      "4    meterse      broken\n"
     ]
    }
   ],
   "source": [
    "if __name__ == \"__main__\":\n",
    "    # Open Duolingo and get the driver\n",
    "    driver = open_duolingo()\n",
    "\n",
    "    # Pause and wait for manual login\n",
    "    input(\"Please log in manually in the browser, then press ENTER here to continue...\")\n",
    "\n",
    "    # Navigate to the Practice Hub\n",
    "    driver = navigate_to_practice_hub(driver)\n",
    "    if not driver:\n",
    "        print(\"Navigation to practice hub failed!\")\n",
    "        exit()\n",
    "\n",
    "    # Extract words and save to DataFrame\n",
    "    df = extract_words(driver)\n",
    "    if df is not None:\n",
    "        print(df.head())  # Display the first few rows of the DataFrame\n",
    "    else:\n",
    "        print(\"Extraction failed!\")"
   ]
  },
  {
   "cell_type": "markdown",
   "id": "ae90923d",
   "metadata": {},
   "source": []
  },
  {
   "cell_type": "code",
   "execution_count": 9,
   "id": "f3cb45d3",
   "metadata": {},
   "outputs": [
    {
     "name": "stdout",
     "output_type": "stream",
     "text": [
      "        Spanish            Translation\n",
      "0     recetario               cookbook\n",
      "1         pulpo                octopus\n",
      "2         hongo               mushroom\n",
      "3     incomible               inedible\n",
      "4       meterse                 broken\n",
      "...         ...                    ...\n",
      "4867         la         the, your, her\n",
      "4868       niña  girl, child, daughter\n",
      "4869         un             a, an, one\n",
      "4870         el         the, your, her\n",
      "4871      mujer      woman, wife, lady\n",
      "\n",
      "[4872 rows x 2 columns]\n"
     ]
    }
   ],
   "source": [
    "print(df)\n",
    "\n",
    "df.to_json(r\"C:\\Users\\victo\\VSCode Folder\\Duolingo\\DuolingoSupport\\Data\\spanish.json\")"
   ]
  }
 ],
 "metadata": {
  "kernelspec": {
   "display_name": "duolingo-env",
   "language": "python",
   "name": "python3"
  },
  "language_info": {
   "codemirror_mode": {
    "name": "ipython",
    "version": 3
   },
   "file_extension": ".py",
   "mimetype": "text/x-python",
   "name": "python",
   "nbconvert_exporter": "python",
   "pygments_lexer": "ipython3",
   "version": "3.11.3"
  }
 },
 "nbformat": 4,
 "nbformat_minor": 5
}
